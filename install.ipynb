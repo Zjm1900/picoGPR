{
 "cells": [
  {
   "cell_type": "code",
   "execution_count": 1,
   "metadata": {},
   "outputs": [
    {
     "name": "stderr",
     "output_type": "stream",
     "text": [
      "Fetching checkpoint: 1.00kb [00:00, ?b/s]                                                           \n",
      "Fetching encoder.json: 1.04Mb [00:01, 545kb/s]                                                      \n",
      "Fetching hparams.json: 1.00kb [00:00, ?b/s]                                                         \n",
      "Fetching model.ckpt.data-00000-of-00001: 498Mb [03:13, 2.58Mb/s]                                    \n",
      "Fetching model.ckpt.index: 6.00kb [00:00, 6.02Mb/s]                                                 \n",
      "Fetching model.ckpt.meta: 472kb [00:01, 392kb/s]                                                    \n",
      "Fetching vocab.bpe: 457kb [00:01, 277kb/s]                                                          \n"
     ]
    }
   ],
   "source": [
    "from utils import load_encoder_hparams_and_params\n",
    "encoder, hparams, params = load_encoder_hparams_and_params(\"124M\", \"models\")"
   ]
  },
  {
   "cell_type": "code",
   "execution_count": 4,
   "metadata": {},
   "outputs": [
    {
     "data": {
      "text/plain": [
       "[40, 2051, 345, 523, 881, 0]"
      ]
     },
     "execution_count": 4,
     "metadata": {},
     "output_type": "execute_result"
    }
   ],
   "source": [
    "ids = encoder.encode(\"I miss you so much!\")\n",
    "ids\n",
    "# encoder.decode(ids)"
   ]
  }
 ],
 "metadata": {
  "kernelspec": {
   "display_name": "py3.9",
   "language": "python",
   "name": "python3"
  },
  "language_info": {
   "codemirror_mode": {
    "name": "ipython",
    "version": 3
   },
   "file_extension": ".py",
   "mimetype": "text/x-python",
   "name": "python",
   "nbconvert_exporter": "python",
   "pygments_lexer": "ipython3",
   "version": "3.9.12"
  },
  "orig_nbformat": 4
 },
 "nbformat": 4,
 "nbformat_minor": 2
}
